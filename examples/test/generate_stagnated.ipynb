{
 "cells": [
  {
   "cell_type": "markdown",
   "metadata": {},
   "source": [
    "This script created a test case for mosquito simulation using FEniCSX.\n",
    "\n",
    "The Neches River fort.64.nc are used to determine which node has abs(water velocity) < 0.001\n",
    "\n",
    "2024.9.14."
   ]
  },
  {
   "cell_type": "code",
   "execution_count": 34,
   "metadata": {},
   "outputs": [],
   "source": [
    "import sys\n",
    "\n",
    "#import Kalpana functions from github repository\n",
    "# change these to your own paths!\n",
    "sys.path.append('/Users/liting/Documents/GitHub/Kalpana')\n",
    "from kalpana.export import *\n",
    "from kalpana.visualizations import *\n",
    "import contextily as cx\n",
    "import os\n",
    "import geopandas as gpd\n",
    "import rasterio\n",
    "import numpy as np\n",
    "from rasterio.features import rasterize\n",
    "from netCDF4 import Dataset\n",
    "#from modified_functions import *\n",
    "threshold_value = 1.0\n"
   ]
  },
  {
   "cell_type": "code",
   "execution_count": 35,
   "metadata": {},
   "outputs": [
    {
     "name": "stdout",
     "output_type": "stream",
     "text": [
      "<class 'netCDF4._netCDF4.Dataset'>\n",
      "root group (NETCDF3_CLASSIC data model, file format NETCDF3):\n",
      "    _FillValue: -99999.0\n",
      "    model: ADCIRC\n",
      "    version: v55.00-49-ga2c71f6\n",
      "    grid_type: Triangular\n",
      "    description: CTXCS_TP_0012_HIS                         ! 32 CHARACTER ALPHANUMERIC RUN DESCRI\n",
      "    agrid: Modified fort.14\n",
      "    rundes: CTXCS_TP_0012_HIS                         ! 32 CHARACTER ALPHANUMERIC RUN DESCRI\n",
      "    runid: Tides_1_SLC_0_RFC_0_WAV_1_GCP_CTX61LE02                          ! 24 CHARACTER\n",
      "    title: namo\n",
      "    institution: namo\n",
      "    source: namo\n",
      "    history: namo\n",
      "    references: namo\n",
      "    comments: namo\n",
      "    host: namo\n",
      "    convention: namo\n",
      "    Conventions: UGRID-0.9.0\n",
      "    contact: namo\n",
      "    creation_date: 2023-03-23 14:52:27 -05:00\n",
      "    modification_date: 2023-03-23 14:52:27 -05:00\n",
      "    fort.15: ==== Input File Parameters (below) ====\n",
      "    dt: 0.125\n",
      "    ihot: 0\n",
      "    ics: 2\n",
      "    nolibf: 1\n",
      "    nolifa: 2\n",
      "    nolica: 1\n",
      "    nolicat: 1\n",
      "    nwp: 7\n",
      "    ncor: 1\n",
      "    ntip: 0\n",
      "    nws: 0\n",
      "    nramp: 1\n",
      "    tau0: -3.0\n",
      "    statim: 0.0\n",
      "    reftim: 0.0\n",
      "    rnday: 4.0\n",
      "    dramp: 0.05\n",
      "    a00: 0.35\n",
      "    b00: 0.3\n",
      "    c00: 0.35\n",
      "    h0: 0.05\n",
      "    slam0: -93.37\n",
      "    sfea0: 29.000000000000004\n",
      "    cf: 0.00026\n",
      "    eslm: 4.0\n",
      "    cori: 0.0\n",
      "    ntif: 0\n",
      "    nbfr: 0\n",
      "    dimensions(sizes): time(384), node(62075), nele(122839), nvertex(3), nope(1), neta(125), max_nvdll(125), nbou(3), nvel(1196), max_nvell(493), mesh(1)\n",
      "    variables(dimensions): float64 time(time), float64 x(node), float64 y(node), int32 element(nele, nvertex), int32 adcirc_mesh(mesh), int32 neta(), int32 nvdll(nope), int32 max_nvdll(), int32 ibtypee(nope), int32 nbdv(neta), int32 nvel(), int32 nvell(nbou), int32 max_nvell(), int32 ibtype(nbou), int32 nbvv(nvel), float64 depth(node), float64 u-vel(time, node), float64 v-vel(time, node)\n",
      "    groups: \n"
     ]
    }
   ],
   "source": [
    "#plot the maximum water levels from a given maxele.63.nc file\n",
    "\n",
    "## path to netcdf file\n",
    "### netcdf is just a way to store datasets\n",
    "nc_path_2 = '/Users/liting/Documents/GitHub/Kalpana/examples/test/fort.64.nc' \n",
    "nc2 = netcdf.Dataset(nc_path_2, 'r')\n",
    "#check if this netcdf file looks right\n",
    "print(nc2)"
   ]
  },
  {
   "cell_type": "markdown",
   "metadata": {},
   "source": [
    "To be lazy, we try to use as much Kalpana code as possible. Therefore, the path to choose is: obtain an array indicate stagnated water with binary coding, and store it as a new variable in netCDF file. In this way, later we can just pass this netCDF file to modified Kalpana function to generate shapefile."
   ]
  },
  {
   "cell_type": "markdown",
   "metadata": {},
   "source": [
    "Two functions in original Kalpana are modified so it is easier for us to use here (add 63 to function name)"
   ]
  },
  {
   "cell_type": "code",
   "execution_count": 3,
   "metadata": {},
   "outputs": [],
   "source": [
    "def nc2shp63(ncFile, var, levels, conType, pathOut, epsgOut, vUnitOut='ft', vUnitIn='m', epsgIn=4326,\n",
    "           subDomain=None, epsgSubDom=None, exportMesh=False, meshName=None, dzFile=None, zeroDif=-20,time_index=0):\n",
    "    ''' Run all necesary functions to export adcirc outputs as shapefiles.\n",
    "        Parameters\n",
    "            ncFile: string\n",
    "                path of the adcirc output, must be a netcdf file\n",
    "            var: string\n",
    "                Name of the variable to export\n",
    "            levels:list\n",
    "                Contour levels. Min, Max and Step. Max IS included as in np.arange method.\n",
    "                Values must be in vUnitOut vertical unit.\n",
    "            conType: string\n",
    "                'polyline' or 'polygon'\n",
    "            pathout: string\n",
    "                complete path of the output file (*.shp or *.gpkg)\n",
    "            epsgOut: int\n",
    "                coordinate system of the output shapefile\n",
    "            vUnitIn, vUnitOut: string. Default for vUnitIn is 'm' and 'ft' for vUnitOut\n",
    "                input and output vertical units. For the momment only supported 'm' and 'ft'\n",
    "            epsgIn: int. Default 4326.\n",
    "                coordinate system of the adcirc input\n",
    "            subDomain: str or list. Default None\n",
    "                complete path of the subdomain polygon kml or shapelfile, or list with the\n",
    "                uper-left x, upper-left y, lower-right x and lower-right y coordinates. The crs must be the same of the\n",
    "                adcirc input file.\n",
    "            exportMesh: boolean. Default False\n",
    "                True for export the mesh geodataframe and also save it as a shapefile\n",
    "            meshName: str\n",
    "                file name of the output mesh shapefile\n",
    "            dzFile: str\n",
    "                full path of the pickle file with the vertical difference between datums\n",
    "                for each mesh node\n",
    "            zeroDif: int\n",
    "                threshold for using nearest neighbor interpolation to change datum. Points below\n",
    "                this value won't be changed.\n",
    "        Returns\n",
    "            gdf: GeoDataFrame\n",
    "                gdf with contours\n",
    "            mesh: GeoDataFrame, only if exportMesh is True\n",
    "                gdf with mesh elements, representative length and area of each triangle\n",
    "    '''\n",
    "    \n",
    "    print('Start exporting adcirc to shape')\n",
    "    ## read adcirc file\n",
    "    nc = netcdf.Dataset(ncFile, 'r')\n",
    "    ## change units of the requested levels\n",
    "    if vUnitIn == 'm' and vUnitOut == 'ft':\n",
    "        levels = [l / 3.2808399 for l in levels]\n",
    "    elif vUnitIn == 'ft' and vUnitOut == 'm':\n",
    "        levels = [l * 3.2808399 for l in levels]\n",
    "    if conType == 'polygon':   \n",
    "        maxmax = np.max(nc[var][:].data)\n",
    "        orgMaxLevel = levels[1]\n",
    "        stepLevel = levels[2]\n",
    "        ## list of levels to array\n",
    "        levels_aux = np.arange(levels[0], np.ceil(maxmax), stepLevel)\n",
    "        ## given levels will now match the avarege value of each interval    \n",
    "        levels_aux = levels_aux - stepLevel/2\n",
    "        levels = levels_aux.copy()\n",
    "    else:\n",
    "        orgMaxLevel = levels[1]\n",
    "        stepLevel = levels[2]\n",
    "        levels = np.arange(levels[0], orgMaxLevel + stepLevel, stepLevel)\n",
    "    \n",
    "    t00 = time.time()\n",
    "    gdf = runExtractContours63(nc, var, levels, conType, epsgIn, stepLevel, orgMaxLevel, \n",
    "                            dzFile, zeroDif,time_index)\n",
    "    print(f'    Ready with the contours extraction: {(time.time() - t00)/60:0.3f} min')\n",
    "    \n",
    "    ## clip contours if requested\n",
    "    if subDomain is not None:\n",
    "        t0 = time.time()\n",
    "        subDom = readSubDomain(subDomain, epsgSubDom)\n",
    "        gdf = gpd.clip(gdf, subDom.to_crs(epsgIn))\n",
    "        print(f'    Cliping contours based on mask: {(time.time() - t0)/60:0.3f} min')\n",
    "    \n",
    "    ## change vertical units if requested\n",
    "    if vUnitIn == vUnitOut:\n",
    "        pass\n",
    "    else:\n",
    "        t0 = time.time()\n",
    "        gdf = gdfChangeVerUnit(gdf, vUnitIn, vUnitOut)\n",
    "        print(f'    Vertical units changed: {(time.time() - t0)/60:0.3f} min')\n",
    "    \n",
    "    ## change CRS if requested\n",
    "    if epsgIn == epsgOut:\n",
    "        pass\n",
    "    else:\n",
    "        t0 = time.time()\n",
    "        gdf = gdf.to_crs(epsgOut)\n",
    "        print(f'    Changing CRS: {(time.time() - t0)/60:0.3f} min')\n",
    "    \n",
    "    ## save output shape file\n",
    "    t0 = time.time()\n",
    "    if pathOut.endswith('.shp'):\n",
    "        gdf.to_file(pathOut)\n",
    "    elif pathOut.endswith('.gpkg'):\n",
    "        gdf.to_file(pathOut, driver = 'GPKG')\n",
    "    elif pathOut.endswith('.wkt'):\n",
    "        gdf.to_csv(pathOut)\n",
    "    print(f'    Saving file: {(time.time() - t0)/60:0.3f} min')\n",
    "    \n",
    "    ## export mesh if requested\n",
    "    if exportMesh == True:\n",
    "        print('    Exporting mesh')\n",
    "        t0 = time.time()\n",
    "        mesh = mesh2gdf(nc, epsgIn, epsgOut)\n",
    "        \n",
    "        if subDomain is not None:\n",
    "            mesh = gpd.clip(mesh, subDom.to_crs(epsgOut))\n",
    "        \n",
    "        mesh.to_file(os.path.join(os.path.dirname(pathOut), f'{meshName}.shp'))\n",
    "        print(f'    Mesh exported: {(time.time() - t0)/60:0.3f} min')\n",
    "        print(f'Ready with exporting code after: {(time.time() - t00)/60:0.3f} min')\n",
    "        return gdf, mesh\n",
    "    \n",
    "    else:\n",
    "        print(f'Ready with exporting code after: {(time.time() - t00)/60:0.3f} min')\n",
    "        return gdf\n",
    "    \n",
    "\n",
    "\n",
    "def runExtractContours63(ncObj, var, levels, conType, epsg, stepLevel, orgMaxLevel, dzFile=None, zeroDif=-20,time_index=0):\n",
    "\n",
    "    ''' Run \"contours2gpd\" or \"filledContours2gpd\" if npro = 1 or \"contours2gpd_mp\" or \"filledContours2gpd_mp\" if npro > 1.\n",
    "        Parameters\n",
    "            ncObj: netCDF4._netCDF4.Dataset\n",
    "                Adcirc input file\n",
    "            var: string\n",
    "                Name of the variable to export\n",
    "            levels: np.array\n",
    "                Contour levels. The max value in the entire doman and over all timesteps is added to the requested levels.\n",
    "            conType: string\n",
    "                'polyline' or 'polygon'\n",
    "            epsg: int\n",
    "                coordinate system\n",
    "            stepLevel: int or float\n",
    "                step size of the levels requested\n",
    "            orgMaxLevel: int or float\n",
    "                max level requested\n",
    "            dzFile: str\n",
    "                full path of the pickle file with the vertical difference between datums\n",
    "                for each mesh node\n",
    "            zeroDif: int\n",
    "                threshold for using nearest neighbor interpolation to change datum. Points below\n",
    "                this value won't be changed.\n",
    "        Returns\n",
    "            gdf: GeoDataFrame\n",
    "                Polygons or polylines as geometry columns. If the requested file is time-varying the GeoDataFrame will include all timesteps.\n",
    "            \n",
    "    '''\n",
    "    ## get triangles and nodes coordinates\n",
    "    nv = ncObj['element'][:,:] - 1 ## triangles starts from 1\n",
    "    x = ncObj['x'][:].data\n",
    "    y = ncObj['y'][:].data\n",
    "    z = ncObj['depth'][:].data\n",
    "    \n",
    "    ## get extra info: variable name, variable long-name and unit name\n",
    "    vname = ncObj[var].name\n",
    "    lname = ncObj[var].long_name\n",
    "    #u = ncObj[var].units\n",
    "\n",
    "    ## matplotlib triangulation\n",
    "    tri = mpl.tri.Triangulation(x, y, nv)\n",
    "    \n",
    "    ## if the variable requested is the bathymetry, values are inverted (times -1) for plotting\n",
    "    if var == 'depth':\n",
    "        timeVar = 0\n",
    "        auxMult = -1\n",
    "    else:\n",
    "        auxMult = 1\n",
    "    \n",
    "    ## time constant\n",
    "\n",
    "    aux = ncObj[var][time_index][:].data\n",
    "    if dzFile != None: ## change datum\n",
    "        dfNewDatum = changeDatum(x, y, z, aux, dzFile, zeroDif)\n",
    "        ## change nan to -99999 and transform it to a 1D vector\n",
    "        aux = np.nan_to_num(dfNewDatum['newVar'].values, nan = -99999.0).reshape(-1)*auxMult\n",
    "    else: ## original datum remains constant\n",
    "        ## change nan to -99999 and transform it to a 1D vector\n",
    "        aux = np.nan_to_num(aux, nan = -99999.0).reshape(-1)*auxMult\n",
    "    ## non-filled contours\n",
    "    if conType == 'polyline':\n",
    "        labelCol = 'z'\n",
    "        gdf = contours2gpd(tri, aux, levels, epsg, True)\n",
    "    ## filled contours\n",
    "    elif conType == 'polygon':\n",
    "        labelCol = 'zMean'\n",
    "        gdf = filledContours2gpd(tri, aux, levels, epsg, stepLevel, orgMaxLevel, True)\n",
    "    ## error message\n",
    "    else:\n",
    "        print('only \"polyline\" and \"polygon\" types are supported!')\n",
    "        sys.exit(-1)\n",
    "    ## add more info to the geodataframe\n",
    "    gdf['variable'] = [vname]*len(gdf)\n",
    "    gdf['name'] = [lname]*len(gdf)\n",
    "        #gdf['zLabelCol'] = [f'{x:0.2f} {unit}' for x in gdf[labelCol]]        \n",
    "    return gdf\n",
    "\n",
    "\n"
   ]
  },
  {
   "cell_type": "code",
   "execution_count": 5,
   "metadata": {},
   "outputs": [],
   "source": [
    "#output to shapefile"
   ]
  },
  {
   "cell_type": "code",
   "execution_count": 4,
   "metadata": {},
   "outputs": [],
   "source": [
    "## path of the stag water output file, must be a netcdf file\n",
    "ncFile ='/Users/liting/Documents/GitHub/Kalpana/examples/test/fort.64.nc' \n",
    "\n",
    "\n",
    "## output directory: the top level directory where the shapefile will be saved\n",
    "output_dir = '/Users/liting/Desktop/stag-water'\n",
    "\n",
    "## name of the variable to downscale\n",
    "var1 = 'u-vel'\n",
    "var2 = 'v-vel'\n",
    "\n",
    "## Contour levels. Min, Max and Step. Max IS included as in np.arange method. Values must be in vUnitOut vertical unit.\n",
    "## from 0 to 3 meters (included) every 0.5\n",
    "levels = [-3.0, 3.0, 0.5] #since values outside this range are not interesting, we will only plot the range of interest\n",
    "\n",
    "## 'polyline' or 'polygon'\n",
    "## we are creating polygons in this example\n",
    "conType = 'polygon'\n",
    "\n",
    "\n",
    "\n",
    "## coordinate system of the output shapefile\n",
    "epsgOut = 4326  # output in latitude and longitude, based on downscaling DEM\n",
    "\n",
    "## input and output vertical units. For the momment only supported 'm' and 'ft'  \n",
    "vUnitIn = 'm' ## Default 'm'\n",
    "vUnitOut = 'm' ## Default 'ft'\n",
    "\n",
    "## coordinate system of the adcirc input.\n",
    "## Default is 4326 since ADCIRC uses latitude and longitude\n",
    "epsgIn = 4326  \n",
    "\n",
    "## complete path of the subdomain polygon kml or shapelfile, or list with the\n",
    "## upper-left x, upper-left y, lower-right x and lower-right y coordinates. \n",
    "## the crs must be the same of the adcirc input file. \n",
    "subDomain = None  ## Default None\n",
    "\n",
    "## True for export the mesh geodataframe and also save it as a shapefile. \n",
    "## for this example we are only exporting the contours, not the mesh.\n",
    "exportMesh = False  ## Default False\n",
    "\n",
    "## file name of the output mesh shapefile. Default None\n",
    "meshName = None  ## Default None\n",
    "\n",
    "## full path of the pickle file with the vertical difference between datums for each mesh node. \n",
    "dzFile = None  ## Default None\n",
    "\n",
    "## threshold for using nearest neighbor interpolation to change datum. Points below this value won't be changed.\n",
    "zeroDif = -20  ## Default -20"
   ]
  },
  {
   "cell_type": "code",
   "execution_count": 5,
   "metadata": {},
   "outputs": [
    {
     "name": "stdout",
     "output_type": "stream",
     "text": [
      "Start exporting adcirc to shape\n"
     ]
    },
    {
     "name": "stderr",
     "output_type": "stream",
     "text": [
      "Compute contours using Dask: 100%|██████████| 41/41 [00:00<00:00, 183.28it/s]\n"
     ]
    },
    {
     "name": "stdout",
     "output_type": "stream",
     "text": [
      "    Ready with the contours extraction: 0.019 min\n",
      "    Saving file: 0.002 min\n",
      "Ready with exporting code after: 0.021 min\n",
      "Start exporting adcirc to shape\n"
     ]
    },
    {
     "name": "stderr",
     "output_type": "stream",
     "text": [
      "Compute contours using Dask: 100%|██████████| 41/41 [00:00<00:00, 213.91it/s]\n"
     ]
    },
    {
     "name": "stdout",
     "output_type": "stream",
     "text": [
      "    Ready with the contours extraction: 0.005 min\n",
      "    Saving file: 0.001 min\n",
      "Ready with exporting code after: 0.006 min\n",
      "Start exporting adcirc to shape\n"
     ]
    },
    {
     "name": "stderr",
     "output_type": "stream",
     "text": [
      "Compute contours using Dask: 100%|██████████| 41/41 [00:00<00:00, 203.88it/s]\n"
     ]
    },
    {
     "name": "stdout",
     "output_type": "stream",
     "text": [
      "    Ready with the contours extraction: 0.005 min\n",
      "    Saving file: 0.001 min\n",
      "Ready with exporting code after: 0.006 min\n",
      "Start exporting adcirc to shape\n"
     ]
    },
    {
     "name": "stderr",
     "output_type": "stream",
     "text": [
      "Compute contours using Dask: 100%|██████████| 41/41 [00:00<00:00, 201.81it/s]\n"
     ]
    },
    {
     "name": "stdout",
     "output_type": "stream",
     "text": [
      "    Ready with the contours extraction: 0.005 min\n",
      "    Saving file: 0.001 min\n",
      "Ready with exporting code after: 0.006 min\n",
      "Start exporting adcirc to shape\n"
     ]
    },
    {
     "name": "stderr",
     "output_type": "stream",
     "text": [
      "Compute contours using Dask: 100%|██████████| 41/41 [00:00<00:00, 46.28it/s] \n"
     ]
    },
    {
     "name": "stdout",
     "output_type": "stream",
     "text": [
      "    Ready with the contours extraction: 0.016 min\n",
      "    Saving file: 0.002 min\n",
      "Ready with exporting code after: 0.019 min\n",
      "Start exporting adcirc to shape\n"
     ]
    },
    {
     "name": "stderr",
     "output_type": "stream",
     "text": [
      "Compute contours using Dask: 100%|██████████| 41/41 [00:00<00:00, 60.73it/s] \n"
     ]
    },
    {
     "name": "stdout",
     "output_type": "stream",
     "text": [
      "    Ready with the contours extraction: 0.013 min\n",
      "    Saving file: 0.002 min\n",
      "Ready with exporting code after: 0.015 min\n",
      "Start exporting adcirc to shape\n"
     ]
    },
    {
     "name": "stderr",
     "output_type": "stream",
     "text": [
      "Compute contours using Dask: 100%|██████████| 41/41 [00:01<00:00, 25.07it/s] \n"
     ]
    },
    {
     "name": "stdout",
     "output_type": "stream",
     "text": [
      "    Ready with the contours extraction: 0.029 min\n",
      "    Saving file: 0.003 min\n",
      "Ready with exporting code after: 0.032 min\n",
      "Start exporting adcirc to shape\n"
     ]
    },
    {
     "name": "stderr",
     "output_type": "stream",
     "text": [
      "Compute contours using Dask: 100%|██████████| 41/41 [00:01<00:00, 25.56it/s] \n"
     ]
    },
    {
     "name": "stdout",
     "output_type": "stream",
     "text": [
      "    Ready with the contours extraction: 0.028 min\n",
      "    Saving file: 0.004 min\n",
      "Ready with exporting code after: 0.032 min\n",
      "Start exporting adcirc to shape\n"
     ]
    },
    {
     "name": "stderr",
     "output_type": "stream",
     "text": [
      "Compute contours using Dask: 100%|██████████| 41/41 [00:02<00:00, 19.42it/s] \n"
     ]
    },
    {
     "name": "stdout",
     "output_type": "stream",
     "text": [
      "    Ready with the contours extraction: 0.037 min\n",
      "    Saving file: 0.004 min\n",
      "Ready with exporting code after: 0.041 min\n",
      "Start exporting adcirc to shape\n"
     ]
    },
    {
     "name": "stderr",
     "output_type": "stream",
     "text": [
      "Compute contours using Dask: 100%|██████████| 41/41 [00:02<00:00, 18.84it/s] \n"
     ]
    },
    {
     "name": "stdout",
     "output_type": "stream",
     "text": [
      "    Ready with the contours extraction: 0.038 min\n",
      "    Saving file: 0.004 min\n",
      "Ready with exporting code after: 0.042 min\n",
      "Start exporting adcirc to shape\n"
     ]
    },
    {
     "name": "stderr",
     "output_type": "stream",
     "text": [
      "Compute contours using Dask: 100%|██████████| 41/41 [00:04<00:00,  9.45it/s] \n"
     ]
    },
    {
     "name": "stdout",
     "output_type": "stream",
     "text": [
      "    Ready with the contours extraction: 0.074 min\n",
      "    Saving file: 0.006 min\n",
      "Ready with exporting code after: 0.079 min\n",
      "Start exporting adcirc to shape\n"
     ]
    },
    {
     "name": "stderr",
     "output_type": "stream",
     "text": [
      "Compute contours using Dask: 100%|██████████| 41/41 [00:04<00:00,  9.29it/s] \n"
     ]
    },
    {
     "name": "stdout",
     "output_type": "stream",
     "text": [
      "    Ready with the contours extraction: 0.075 min\n",
      "    Saving file: 0.006 min\n",
      "Ready with exporting code after: 0.081 min\n",
      "Start exporting adcirc to shape\n"
     ]
    },
    {
     "name": "stderr",
     "output_type": "stream",
     "text": [
      "Compute contours using Dask: 100%|██████████| 41/41 [00:04<00:00, 10.07it/s] \n"
     ]
    },
    {
     "name": "stdout",
     "output_type": "stream",
     "text": [
      "    Ready with the contours extraction: 0.070 min\n",
      "    Saving file: 0.005 min\n",
      "Ready with exporting code after: 0.076 min\n",
      "Start exporting adcirc to shape\n"
     ]
    },
    {
     "name": "stderr",
     "output_type": "stream",
     "text": [
      "Compute contours using Dask: 100%|██████████| 41/41 [00:04<00:00,  9.58it/s] \n"
     ]
    },
    {
     "name": "stdout",
     "output_type": "stream",
     "text": [
      "    Ready with the contours extraction: 0.073 min\n",
      "    Saving file: 0.006 min\n",
      "Ready with exporting code after: 0.078 min\n",
      "Start exporting adcirc to shape\n"
     ]
    },
    {
     "name": "stderr",
     "output_type": "stream",
     "text": [
      "Compute contours using Dask: 100%|██████████| 41/41 [00:04<00:00,  8.93it/s] \n"
     ]
    },
    {
     "name": "stdout",
     "output_type": "stream",
     "text": [
      "    Ready with the contours extraction: 0.078 min\n",
      "    Saving file: 0.006 min\n",
      "Ready with exporting code after: 0.084 min\n",
      "Start exporting adcirc to shape\n"
     ]
    },
    {
     "name": "stderr",
     "output_type": "stream",
     "text": [
      "Compute contours using Dask: 100%|██████████| 41/41 [00:04<00:00,  9.00it/s] \n"
     ]
    },
    {
     "name": "stdout",
     "output_type": "stream",
     "text": [
      "    Ready with the contours extraction: 0.078 min\n",
      "    Saving file: 0.006 min\n",
      "Ready with exporting code after: 0.084 min\n",
      "Start exporting adcirc to shape\n"
     ]
    },
    {
     "name": "stderr",
     "output_type": "stream",
     "text": [
      "Compute contours using Dask: 100%|██████████| 41/41 [00:04<00:00,  8.99it/s] \n"
     ]
    },
    {
     "name": "stdout",
     "output_type": "stream",
     "text": [
      "    Ready with the contours extraction: 0.078 min\n",
      "    Saving file: 0.006 min\n",
      "Ready with exporting code after: 0.084 min\n",
      "Start exporting adcirc to shape\n"
     ]
    },
    {
     "name": "stderr",
     "output_type": "stream",
     "text": [
      "Compute contours using Dask: 100%|██████████| 41/41 [00:04<00:00,  8.73it/s] \n"
     ]
    },
    {
     "name": "stdout",
     "output_type": "stream",
     "text": [
      "    Ready with the contours extraction: 0.080 min\n",
      "    Saving file: 0.006 min\n",
      "Ready with exporting code after: 0.086 min\n",
      "Start exporting adcirc to shape\n"
     ]
    },
    {
     "name": "stderr",
     "output_type": "stream",
     "text": [
      "Compute contours using Dask: 100%|██████████| 41/41 [00:05<00:00,  8.17it/s] \n"
     ]
    },
    {
     "name": "stdout",
     "output_type": "stream",
     "text": [
      "    Ready with the contours extraction: 0.085 min\n",
      "    Saving file: 0.006 min\n",
      "Ready with exporting code after: 0.091 min\n",
      "Start exporting adcirc to shape\n"
     ]
    },
    {
     "name": "stderr",
     "output_type": "stream",
     "text": [
      "Compute contours using Dask: 100%|██████████| 41/41 [00:05<00:00,  7.86it/s] \n"
     ]
    },
    {
     "name": "stdout",
     "output_type": "stream",
     "text": [
      "    Ready with the contours extraction: 0.089 min\n",
      "    Saving file: 0.006 min\n",
      "Ready with exporting code after: 0.095 min\n",
      "Start exporting adcirc to shape\n"
     ]
    },
    {
     "name": "stderr",
     "output_type": "stream",
     "text": [
      "Compute contours using Dask: 100%|██████████| 41/41 [00:04<00:00,  8.69it/s] \n"
     ]
    },
    {
     "name": "stdout",
     "output_type": "stream",
     "text": [
      "    Ready with the contours extraction: 0.080 min\n",
      "    Saving file: 0.006 min\n",
      "Ready with exporting code after: 0.086 min\n",
      "Start exporting adcirc to shape\n"
     ]
    },
    {
     "name": "stderr",
     "output_type": "stream",
     "text": [
      "Compute contours using Dask: 100%|██████████| 41/41 [00:06<00:00,  5.97it/s] \n"
     ]
    },
    {
     "name": "stdout",
     "output_type": "stream",
     "text": [
      "    Ready with the contours extraction: 0.117 min\n",
      "    Saving file: 0.006 min\n",
      "Ready with exporting code after: 0.123 min\n",
      "Start exporting adcirc to shape\n"
     ]
    },
    {
     "name": "stderr",
     "output_type": "stream",
     "text": [
      "Compute contours using Dask: 100%|██████████| 41/41 [00:04<00:00,  9.67it/s] \n"
     ]
    },
    {
     "name": "stdout",
     "output_type": "stream",
     "text": [
      "    Ready with the contours extraction: 0.072 min\n",
      "    Saving file: 0.006 min\n",
      "Ready with exporting code after: 0.078 min\n",
      "Start exporting adcirc to shape\n"
     ]
    },
    {
     "name": "stderr",
     "output_type": "stream",
     "text": [
      "Compute contours using Dask: 100%|██████████| 41/41 [00:04<00:00,  8.67it/s] \n"
     ]
    },
    {
     "name": "stdout",
     "output_type": "stream",
     "text": [
      "    Ready with the contours extraction: 0.080 min\n",
      "    Saving file: 0.006 min\n",
      "Ready with exporting code after: 0.086 min\n",
      "Start exporting adcirc to shape\n"
     ]
    },
    {
     "name": "stderr",
     "output_type": "stream",
     "text": [
      "Compute contours using Dask: 100%|██████████| 41/41 [00:04<00:00,  9.76it/s] \n"
     ]
    },
    {
     "name": "stdout",
     "output_type": "stream",
     "text": [
      "    Ready with the contours extraction: 0.072 min\n",
      "    Saving file: 0.006 min\n",
      "Ready with exporting code after: 0.077 min\n",
      "Start exporting adcirc to shape\n"
     ]
    },
    {
     "name": "stderr",
     "output_type": "stream",
     "text": [
      "Compute contours using Dask: 100%|██████████| 41/41 [00:04<00:00,  9.40it/s] \n"
     ]
    },
    {
     "name": "stdout",
     "output_type": "stream",
     "text": [
      "    Ready with the contours extraction: 0.074 min\n",
      "    Saving file: 0.006 min\n",
      "Ready with exporting code after: 0.080 min\n",
      "Start exporting adcirc to shape\n"
     ]
    },
    {
     "name": "stderr",
     "output_type": "stream",
     "text": [
      "Compute contours using Dask: 100%|██████████| 41/41 [00:03<00:00, 10.78it/s] \n"
     ]
    },
    {
     "name": "stdout",
     "output_type": "stream",
     "text": [
      "    Ready with the contours extraction: 0.065 min\n",
      "    Saving file: 0.006 min\n",
      "Ready with exporting code after: 0.070 min\n",
      "Start exporting adcirc to shape\n"
     ]
    },
    {
     "name": "stderr",
     "output_type": "stream",
     "text": [
      "Compute contours using Dask: 100%|██████████| 41/41 [00:04<00:00,  8.91it/s] \n"
     ]
    },
    {
     "name": "stdout",
     "output_type": "stream",
     "text": [
      "    Ready with the contours extraction: 0.079 min\n",
      "    Saving file: 0.006 min\n",
      "Ready with exporting code after: 0.085 min\n",
      "Start exporting adcirc to shape\n"
     ]
    },
    {
     "name": "stderr",
     "output_type": "stream",
     "text": [
      "Compute contours using Dask: 100%|██████████| 41/41 [00:04<00:00,  8.44it/s] \n"
     ]
    },
    {
     "name": "stdout",
     "output_type": "stream",
     "text": [
      "    Ready with the contours extraction: 0.083 min\n",
      "    Saving file: 0.006 min\n",
      "Ready with exporting code after: 0.088 min\n",
      "Start exporting adcirc to shape\n"
     ]
    },
    {
     "name": "stderr",
     "output_type": "stream",
     "text": [
      "Compute contours using Dask: 100%|██████████| 41/41 [00:04<00:00,  9.32it/s] \n"
     ]
    },
    {
     "name": "stdout",
     "output_type": "stream",
     "text": [
      "    Ready with the contours extraction: 0.075 min\n",
      "    Saving file: 0.005 min\n",
      "Ready with exporting code after: 0.080 min\n",
      "Start exporting adcirc to shape\n"
     ]
    },
    {
     "name": "stderr",
     "output_type": "stream",
     "text": [
      "Compute contours using Dask: 100%|██████████| 41/41 [00:03<00:00, 11.82it/s] \n"
     ]
    },
    {
     "name": "stdout",
     "output_type": "stream",
     "text": [
      "    Ready with the contours extraction: 0.059 min\n",
      "    Saving file: 0.005 min\n",
      "Ready with exporting code after: 0.065 min\n",
      "Start exporting adcirc to shape\n"
     ]
    },
    {
     "name": "stderr",
     "output_type": "stream",
     "text": [
      "Compute contours using Dask: 100%|██████████| 41/41 [00:03<00:00, 10.48it/s] \n"
     ]
    },
    {
     "name": "stdout",
     "output_type": "stream",
     "text": [
      "    Ready with the contours extraction: 0.067 min\n",
      "    Saving file: 0.005 min\n",
      "Ready with exporting code after: 0.072 min\n",
      "Start exporting adcirc to shape\n"
     ]
    },
    {
     "name": "stderr",
     "output_type": "stream",
     "text": [
      "Compute contours using Dask: 100%|██████████| 41/41 [00:03<00:00, 12.31it/s] \n"
     ]
    },
    {
     "name": "stdout",
     "output_type": "stream",
     "text": [
      "    Ready with the contours extraction: 0.057 min\n",
      "    Saving file: 0.006 min\n",
      "Ready with exporting code after: 0.063 min\n",
      "Start exporting adcirc to shape\n"
     ]
    },
    {
     "name": "stderr",
     "output_type": "stream",
     "text": [
      "Compute contours using Dask: 100%|██████████| 41/41 [00:03<00:00, 11.24it/s] \n"
     ]
    },
    {
     "name": "stdout",
     "output_type": "stream",
     "text": [
      "    Ready with the contours extraction: 0.062 min\n",
      "    Saving file: 0.005 min\n",
      "Ready with exporting code after: 0.068 min\n",
      "Start exporting adcirc to shape\n"
     ]
    },
    {
     "name": "stderr",
     "output_type": "stream",
     "text": [
      "Compute contours using Dask: 100%|██████████| 41/41 [00:03<00:00, 13.17it/s] \n"
     ]
    },
    {
     "name": "stdout",
     "output_type": "stream",
     "text": [
      "    Ready with the contours extraction: 0.053 min\n",
      "    Saving file: 0.005 min\n",
      "Ready with exporting code after: 0.058 min\n",
      "Start exporting adcirc to shape\n"
     ]
    },
    {
     "name": "stderr",
     "output_type": "stream",
     "text": [
      "Compute contours using Dask: 100%|██████████| 41/41 [00:03<00:00, 11.40it/s] \n"
     ]
    },
    {
     "name": "stdout",
     "output_type": "stream",
     "text": [
      "    Ready with the contours extraction: 0.062 min\n",
      "    Saving file: 0.005 min\n",
      "Ready with exporting code after: 0.066 min\n",
      "Start exporting adcirc to shape\n"
     ]
    },
    {
     "name": "stderr",
     "output_type": "stream",
     "text": [
      "Compute contours using Dask: 100%|██████████| 41/41 [00:03<00:00, 12.87it/s] \n"
     ]
    },
    {
     "name": "stdout",
     "output_type": "stream",
     "text": [
      "    Ready with the contours extraction: 0.055 min\n",
      "    Saving file: 0.005 min\n",
      "Ready with exporting code after: 0.059 min\n",
      "Start exporting adcirc to shape\n"
     ]
    },
    {
     "name": "stderr",
     "output_type": "stream",
     "text": [
      "Compute contours using Dask: 100%|██████████| 41/41 [00:03<00:00, 10.97it/s] \n"
     ]
    },
    {
     "name": "stdout",
     "output_type": "stream",
     "text": [
      "    Ready with the contours extraction: 0.064 min\n",
      "    Saving file: 0.005 min\n",
      "Ready with exporting code after: 0.069 min\n",
      "Start exporting adcirc to shape\n"
     ]
    },
    {
     "name": "stderr",
     "output_type": "stream",
     "text": [
      "Compute contours using Dask: 100%|██████████| 41/41 [00:02<00:00, 13.96it/s] \n"
     ]
    },
    {
     "name": "stdout",
     "output_type": "stream",
     "text": [
      "    Ready with the contours extraction: 0.050 min\n",
      "    Saving file: 0.005 min\n",
      "Ready with exporting code after: 0.055 min\n",
      "Start exporting adcirc to shape\n"
     ]
    },
    {
     "name": "stderr",
     "output_type": "stream",
     "text": [
      "Compute contours using Dask: 100%|██████████| 41/41 [00:03<00:00, 13.13it/s] \n"
     ]
    },
    {
     "name": "stdout",
     "output_type": "stream",
     "text": [
      "    Ready with the contours extraction: 0.054 min\n",
      "    Saving file: 0.005 min\n",
      "Ready with exporting code after: 0.058 min\n"
     ]
    }
   ],
   "source": [
    "time_index = 0\n",
    "#Every 20 time steps, we will create a new shapefile\n",
    "while time_index < 384:\n",
    "    # output directory\n",
    "    output_raster_dir = output_dir+'/time_index_'+str(time_index)+'/'\n",
    "    if not os.path.exists(output_raster_dir):\n",
    "        os.makedirs(output_raster_dir)\n",
    "    \n",
    "    ## complete path of the output file (*.shp or *.gpkg)\n",
    "    pathOut1 = output_raster_dir+'neches_uvel.shp'\n",
    "    pathOut2 = output_raster_dir+'neches_vvel.shp'\n",
    "    \n",
    "    \n",
    "    gdf = nc2shp63(ncFile, var1, levels, conType, pathOut1, epsgOut, vUnitOut=vUnitOut, vUnitIn=vUnitIn, epsgIn=epsgIn,\n",
    "               subDomain=subDomain, exportMesh=exportMesh, meshName=meshName, dzFile=dzFile, zeroDif=zeroDif,time_index=time_index)\n",
    "    gdf = nc2shp63(ncFile, var2, levels, conType, pathOut2, epsgOut, vUnitOut=vUnitOut, vUnitIn=vUnitIn, epsgIn=epsgIn,\n",
    "               subDomain=subDomain, exportMesh=exportMesh, meshName=meshName, dzFile=dzFile, zeroDif=zeroDif,time_index=time_index)\n",
    "    time_index = time_index+20"
   ]
  },
  {
   "cell_type": "code",
   "execution_count": 38,
   "metadata": {},
   "outputs": [],
   "source": [
    "\n",
    "def shapefile_to_netcdf(shapefile_path1, shapefile_path2, ncfile_path, threshold_value=0.001, nx=100, ny=100,overwrite=True):\n",
    "    # check if nc file exists\n",
    "    if os.path.exists(ncfile_path):\n",
    "        if overwrite:\n",
    "            print(f\"File '{ncfile_path}' exists. Overwriting...\")\n",
    "            os.remove(ncfile_path)  # Delete the file to overwrite\n",
    "        else:\n",
    "            raise PermissionError(f\"File '{ncfile_path}' already exists. Set overwrite=True to overwrite the file.\")\n",
    "\n",
    "    # Load the shapefiles\n",
    "    gdf1 = gpd.read_file(shapefile_path1)\n",
    "    gdf2 = gpd.read_file(shapefile_path2)\n",
    "\n",
    "    # Define the grid resolution for rasterization\n",
    "    lon_min1, lon_max1 = gdf1.total_bounds[0], gdf1.total_bounds[2]\n",
    "    lat_min1, lat_max1 = gdf1.total_bounds[1], gdf1.total_bounds[3]\n",
    "\n",
    "    print(f\"lon_min1: {lon_min1}, lon_max1: {lon_max1}, lat_min1: {lat_min1}, lat_max1: {lat_max1}\")\n",
    "\n",
    "    # Create a grid of lon/lat\n",
    "    lon1 = np.linspace(lon_min1, lon_max1, nx)\n",
    "    lat1 = np.linspace(lat_min1, lat_max1, ny)\n",
    "\n",
    "    # Create an affine transformation for rasterio to align the grid\n",
    "    transform = rasterio.transform.from_bounds(lon_min1, lat_max1, lon_max1, lat_min1, nx, ny)\n",
    "\n",
    "    # Rasterize the shapefile geometries onto the grid\n",
    "    rasterized_data1 = rasterize(\n",
    "        [(geom, 1) for geom in gdf1.geometry],  # Marks all shapes with a value of 1\n",
    "        out_shape=(ny, nx),\n",
    "        transform=transform,\n",
    "        fill=np.nan,  # Fill value for areas with no geometries\n",
    "        dtype='float64'\n",
    "    )\n",
    "\n",
    "    rasterized_data2 = rasterize(\n",
    "        [(geom, 1) for geom in gdf2.geometry],  # Marks all shapes with a value of 1\n",
    "        out_shape=(ny, nx),\n",
    "        transform=transform,\n",
    "        fill=np.nan,  # Fill value for areas with no geometries\n",
    "        dtype='float64'\n",
    "    )\n",
    "\n",
    "    combined_data = np.sqrt(rasterized_data1**2 + rasterized_data2**2)\n",
    "    combined_data = np.where(combined_data <= 1.5, 1, 0)\n",
    "\n",
    "\n",
    "\n",
    "    with Dataset(ncfile_path, 'w', format='NETCDF4') as nc:\n",
    "        # Create dimensions\n",
    "        nc.createDimension('lon', nx)\n",
    "        nc.createDimension('lat', ny)\n",
    "\n",
    "        # Create variables for lon, lat, and the rasterized data\n",
    "        lons = nc.createVariable('lon', 'f4', ('lon',))\n",
    "        lats = nc.createVariable('lat', 'f4', ('lat',))\n",
    "        data_var = nc.createVariable('stag_water', 'f4', ('lat', 'lon'))\n",
    "\n",
    "        # Write lon, lat, and rasterized data to the NetCDF file\n",
    "        lons[:] = lon1\n",
    "        lats[:] = lat1\n",
    "        data_var[:, :] = combined_data  # Assign the processed data to the NetCDF variable\n",
    "\n",
    "        # Add metadata (optional)\n",
    "        data_var.units = '1'  # Value of 1 where shapes exist, 0 elsewhere\n",
    "        data_var.long_name = f'Stagnated water calculated from u-vel and v-vel with threshold: {threshold_value}'\n",
    "        nc.title = 'Converted Shapefile to NetCDF'\n",
    "        nc.history = 'Created with Python script using geopandas, rasterio, and netCDF4'\n",
    "\n",
    "    print(f\"NetCDF file '{ncfile_path}' created successfully.\")\n"
   ]
  },
  {
   "cell_type": "code",
   "execution_count": 41,
   "metadata": {},
   "outputs": [
    {
     "name": "stdout",
     "output_type": "stream",
     "text": [
      "File '/Users/liting/Desktop/stag-water/time_index_0/neches_stag.nc' exists. Overwriting...\n",
      "lon_min1: -94.09638506130048, lon_max1: -93.82583696619967, lat_min1: 29.936486, lat_max1: 30.134001068338677\n",
      "NetCDF file '/Users/liting/Desktop/stag-water/time_index_0/neches_stag.nc' created successfully.\n",
      "File '/Users/liting/Desktop/stag-water/time_index_20/neches_stag.nc' exists. Overwriting...\n",
      "lon_min1: -94.09638506059035, lon_max1: -93.82583696619967, lat_min1: 29.936486, lat_max1: 30.13400106754702\n",
      "NetCDF file '/Users/liting/Desktop/stag-water/time_index_20/neches_stag.nc' created successfully.\n",
      "File '/Users/liting/Desktop/stag-water/time_index_40/neches_stag.nc' exists. Overwriting...\n",
      "lon_min1: -94.09638506126717, lon_max1: -93.82297597479646, lat_min1: 29.936486, lat_max1: 30.13400106830154\n",
      "NetCDF file '/Users/liting/Desktop/stag-water/time_index_40/neches_stag.nc' created successfully.\n",
      "File '/Users/liting/Desktop/stag-water/time_index_60/neches_stag.nc' exists. Overwriting...\n",
      "lon_min1: -94.10110110897358, lon_max1: -93.82297597469373, lat_min1: 29.936486, lat_max1: 30.15858814209597\n",
      "NetCDF file '/Users/liting/Desktop/stag-water/time_index_60/neches_stag.nc' created successfully.\n",
      "File '/Users/liting/Desktop/stag-water/time_index_80/neches_stag.nc' exists. Overwriting...\n",
      "lon_min1: -94.1091901145093, lon_max1: -93.82251296530664, lat_min1: 29.936486, lat_max1: 30.158588141680124\n",
      "NetCDF file '/Users/liting/Desktop/stag-water/time_index_80/neches_stag.nc' created successfully.\n",
      "File '/Users/liting/Desktop/stag-water/time_index_100/neches_stag.nc' exists. Overwriting...\n",
      "lon_min1: -94.10919011476452, lon_max1: -93.82251296455146, lat_min1: 29.936486, lat_max1: 30.159865002632525\n",
      "NetCDF file '/Users/liting/Desktop/stag-water/time_index_100/neches_stag.nc' created successfully.\n",
      "File '/Users/liting/Desktop/stag-water/time_index_120/neches_stag.nc' exists. Overwriting...\n",
      "lon_min1: -94.10919011489527, lon_max1: -93.82172997275573, lat_min1: 29.936486, lat_max1: 30.159865002632525\n",
      "NetCDF file '/Users/liting/Desktop/stag-water/time_index_120/neches_stag.nc' created successfully.\n",
      "File '/Users/liting/Desktop/stag-water/time_index_140/neches_stag.nc' exists. Overwriting...\n",
      "lon_min1: -94.10919011452836, lon_max1: -93.8225129652918, lat_min1: 29.936486, lat_max1: 30.15994602210023\n",
      "NetCDF file '/Users/liting/Desktop/stag-water/time_index_140/neches_stag.nc' created successfully.\n",
      "File '/Users/liting/Desktop/stag-water/time_index_160/neches_stag.nc' exists. Overwriting...\n",
      "lon_min1: -94.125979, lon_max1: -93.82172997274542, lat_min1: 29.936486, lat_max1: 30.15994602210023\n",
      "NetCDF file '/Users/liting/Desktop/stag-water/time_index_160/neches_stag.nc' created successfully.\n",
      "File '/Users/liting/Desktop/stag-water/time_index_180/neches_stag.nc' exists. Overwriting...\n",
      "lon_min1: -94.12781301621767, lon_max1: -93.82172997211248, lat_min1: 29.936486, lat_max1: 30.160626\n",
      "NetCDF file '/Users/liting/Desktop/stag-water/time_index_180/neches_stag.nc' created successfully.\n",
      "File '/Users/liting/Desktop/stag-water/time_index_200/neches_stag.nc' exists. Overwriting...\n",
      "lon_min1: -94.12781301621767, lon_max1: -93.82172997275686, lat_min1: 29.936486, lat_max1: 30.163437105463554\n",
      "NetCDF file '/Users/liting/Desktop/stag-water/time_index_200/neches_stag.nc' created successfully.\n",
      "File '/Users/liting/Desktop/stag-water/time_index_220/neches_stag.nc' exists. Overwriting...\n",
      "lon_min1: -94.12781301621767, lon_max1: -93.821449, lat_min1: 29.936486, lat_max1: 30.163437105463554\n",
      "NetCDF file '/Users/liting/Desktop/stag-water/time_index_220/neches_stag.nc' created successfully.\n",
      "File '/Users/liting/Desktop/stag-water/time_index_240/neches_stag.nc' exists. Overwriting...\n",
      "lon_min1: -94.12781301621767, lon_max1: -93.821449, lat_min1: 29.936486, lat_max1: 30.163437105463554\n",
      "NetCDF file '/Users/liting/Desktop/stag-water/time_index_240/neches_stag.nc' created successfully.\n",
      "File '/Users/liting/Desktop/stag-water/time_index_260/neches_stag.nc' exists. Overwriting...\n",
      "lon_min1: -94.12781301621767, lon_max1: -93.821449, lat_min1: 29.936486, lat_max1: 30.163437105463554\n",
      "NetCDF file '/Users/liting/Desktop/stag-water/time_index_260/neches_stag.nc' created successfully.\n",
      "File '/Users/liting/Desktop/stag-water/time_index_280/neches_stag.nc' exists. Overwriting...\n",
      "lon_min1: -94.12781301621767, lon_max1: -93.82251296462557, lat_min1: 29.936486, lat_max1: 30.163437105463554\n",
      "NetCDF file '/Users/liting/Desktop/stag-water/time_index_280/neches_stag.nc' created successfully.\n",
      "File '/Users/liting/Desktop/stag-water/time_index_300/neches_stag.nc' exists. Overwriting...\n",
      "lon_min1: -94.12781301621767, lon_max1: -93.821449, lat_min1: 29.936486, lat_max1: 30.16699\n",
      "NetCDF file '/Users/liting/Desktop/stag-water/time_index_300/neches_stag.nc' created successfully.\n",
      "File '/Users/liting/Desktop/stag-water/time_index_320/neches_stag.nc' exists. Overwriting...\n",
      "lon_min1: -94.12781301621767, lon_max1: -93.821449, lat_min1: 29.936486, lat_max1: 30.16699\n",
      "NetCDF file '/Users/liting/Desktop/stag-water/time_index_320/neches_stag.nc' created successfully.\n",
      "File '/Users/liting/Desktop/stag-water/time_index_340/neches_stag.nc' exists. Overwriting...\n",
      "lon_min1: -94.12781301621767, lon_max1: -93.821449, lat_min1: 29.936486, lat_max1: 30.16699\n",
      "NetCDF file '/Users/liting/Desktop/stag-water/time_index_340/neches_stag.nc' created successfully.\n",
      "File '/Users/liting/Desktop/stag-water/time_index_360/neches_stag.nc' exists. Overwriting...\n",
      "lon_min1: -94.12781301621767, lon_max1: -93.821449, lat_min1: 29.936486, lat_max1: 30.16699\n",
      "NetCDF file '/Users/liting/Desktop/stag-water/time_index_360/neches_stag.nc' created successfully.\n",
      "File '/Users/liting/Desktop/stag-water/time_index_380/neches_stag.nc' exists. Overwriting...\n",
      "lon_min1: -94.12781301621767, lon_max1: -93.821449, lat_min1: 29.936486, lat_max1: 30.16699\n",
      "NetCDF file '/Users/liting/Desktop/stag-water/time_index_380/neches_stag.nc' created successfully.\n"
     ]
    }
   ],
   "source": [
    "time_index = 0\n",
    "#Every 20 time steps, we will create a new shapefile\n",
    "while time_index < 384:\n",
    "    # output directory\n",
    "    output_raster_dir = output_dir+'/time_index_'+str(time_index)+'/'\n",
    "    # if not os.path.exists(output_raster_dir):\n",
    "    #     os.makedirs(output_raster_dir)\n",
    "    \n",
    "    ## complete path of the output file (*.shp or *.gpkg)\n",
    "    pathOut1 = output_raster_dir+'neches_uvel.shp'\n",
    "    pathOut2 = output_raster_dir+'neches_vvel.shp'\n",
    "\n",
    "    shapefile_to_netcdf(pathOut1, pathOut2,output_raster_dir+'neches_stag.nc', nx=1000, ny=1000)\n",
    "\n",
    "    \n",
    "    \n",
    "    # gdf = nc2shp63(ncFile, var, levels, conType, pathOut, epsgOut, vUnitOut=vUnitOut, vUnitIn=vUnitIn, epsgIn=epsgIn,\n",
    "    #            subDomain=subDomain, exportMesh=exportMesh, meshName=meshName, dzFile=dzFile, zeroDif=zeroDif,time_index=time_index)\n",
    "    time_index = time_index+20"
   ]
  },
  {
   "cell_type": "code",
   "execution_count": 15,
   "metadata": {},
   "outputs": [
    {
     "name": "stdout",
     "output_type": "stream",
     "text": [
      "<class 'netCDF4._netCDF4.Dataset'>\n",
      "root group (NETCDF4 data model, file format HDF5):\n",
      "    title: Converted Shapefile to NetCDF\n",
      "    history: Created with Python script using geopandas, rasterio, and netCDF4\n",
      "    dimensions(sizes): lon(1000), lat(1000)\n",
      "    variables(dimensions): float32 lon(lon), float32 lat(lat), float32 stag_water(lat, lon)\n",
      "    groups: \n"
     ]
    }
   ],
   "source": [
    "nc_path_4 = '/Users/liting/Desktop/stag-water/time_index_0/neches_stag.nc' \n",
    "nc4 = netcdf.Dataset(nc_path_4, 'r')\n",
    "#check if this netcdf file looks right\n",
    "print(nc4)"
   ]
  },
  {
   "cell_type": "markdown",
   "metadata": {},
   "source": [
    "Below is code for checking performance"
   ]
  },
  {
   "cell_type": "code",
   "execution_count": 42,
   "metadata": {},
   "outputs": [
    {
     "data": {
      "image/png": "[encoded data removed]",
      "text/plain": [
       "<Figure size 1000x800 with 2 Axes>"
      ]
     },
     "metadata": {},
     "output_type": "display_data"
    }
   ],
   "source": [
    "\n",
    "ds = netcdf.Dataset(\"/Users/liting/Desktop/stag-water/time_index_120/neches_stag.nc\", 'r')\n",
    "\n",
    "\n",
    "# Step 2: Read the variables (lon, lat, and stag_water)\n",
    "lon = ds.variables['lon'][:]\n",
    "lat = ds.variables['lat'][:]\n",
    "stag_water = ds.variables['stag_water'][:]\n",
    "\n",
    "# Step 3: Create a meshgrid of lon and lat for plotting\n",
    "lon_grid, lat_grid = np.meshgrid(lon, lat)\n",
    "\n",
    "# Step 4: Plot using matplotlib\n",
    "plt.figure(figsize=(10, 8))\n",
    "plt.pcolormesh(lon_grid, lat_grid, stag_water, shading='auto', cmap='viridis')  # Plot the stag_water variable\n",
    "\n",
    "# Add a colorbar to show the color intensity corresponding to stag_water values\n",
    "plt.colorbar(label='Stagnated Water')\n",
    "\n",
    "# Label axes\n",
    "plt.xlabel('Longitude')\n",
    "plt.ylabel('Latitude')\n",
    "plt.title('Stagnated Water from Shapefile (NetCDF)')\n",
    "\n",
    "# Display the plot\n",
    "plt.show()\n",
    "\n",
    "# Step 5: Close the NetCDF file\n",
    "ds.close()\n"
   ]
  }
 ],
 "metadata": {
  "kernelspec": {
   "display_name": "env_kalpana_v1",
   "language": "python",
   "name": "python3"
  },
  "language_info": {
   "codemirror_mode": {
    "name": "ipython",
    "version": 3
   },
   "file_extension": ".py",
   "mimetype": "text/x-python",
   "name": "python",
   "nbconvert_exporter": "python",
   "pygments_lexer": "ipython3",
   "version": "3.9.16"
  }
 },
 "nbformat": 4,
 "nbformat_minor": 2
}
